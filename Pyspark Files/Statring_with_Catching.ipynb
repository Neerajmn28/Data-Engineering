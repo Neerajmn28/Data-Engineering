{
  "nbformat": 4,
  "nbformat_minor": 0,
  "metadata": {
    "colab": {
      "provenance": []
    },
    "kernelspec": {
      "name": "python3",
      "display_name": "Python 3"
    },
    "language_info": {
      "name": "python"
    }
  },
  "cells": [
    {
      "cell_type": "code",
      "execution_count": 1,
      "metadata": {
        "id": "h3Gr6f1RD2fP"
      },
      "outputs": [],
      "source": [
        "from pyspark.sql import SparkSession\n",
        "\n",
        "\n",
        "spark = SparkSession.builder \\\n",
        ".appName ('Spark_Cache_RDD') \\\n",
        ".getOrCreate()"
      ]
    },
    {
      "cell_type": "code",
      "source": [
        "data = [\n",
        "    (0, 'Customer_0', 'Pune', 'Maharashtra', 'India', '29-06-2023', 'FALSE'),\n",
        "    (1, 'Customer_1', 'Bangalore', 'Tamil Nadu', 'India', '07-12-2023', 'TRUE'),\n",
        "    (2, 'Customer_2', 'Hyderabad', 'Gujarat', 'India', '27-10-2023', 'TRUE'),\n",
        "    (3, 'Customer_3', 'Bangalore', 'Karnataka', 'India', '17-10-2023', 'FALSE'),\n",
        "    (4, 'Customer_4', 'Mumbai', 'Maharashtra', 'India', '15-08-2022', 'TRUE'),\n",
        "    (5, 'Customer_5', 'Delhi', 'Delhi', 'India', '02-01-2023', 'FALSE'),\n",
        "    (6, 'Customer_6', 'Kolkata', 'West Bengal', 'India', '09-05-2021', 'TRUE'),\n",
        "    (7, 'Customer_7', 'Ahmedabad', 'Gujarat', 'India', '11-11-2020', 'TRUE'),\n",
        "    (8, 'Customer_8', 'Jaipur', 'Rajasthan', 'India', '13-03-2022', 'FALSE'),\n",
        "    (9, 'Customer_9', 'Lucknow', 'Uttar Pradesh', 'India', '21-06-2022', 'TRUE'),\n",
        "    (10, 'Customer_10', 'Chennai', 'Tamil Nadu', 'India', '15-09-2023', 'FALSE'),\n",
        "    (11, 'Customer_11', 'Hyderabad', 'Telangana', 'India', '25-12-2021', 'TRUE'),\n",
        "    (12, 'Customer_12', 'Bangalore', 'Karnataka', 'India', '02-02-2020', 'TRUE'),\n",
        "    (13, 'Customer_13', 'Pune', 'Maharashtra', 'India', '31-10-2023', 'FALSE'),\n",
        "    (14, 'Customer_14', 'Mumbai', 'Maharashtra', 'India', '19-04-2021', 'TRUE'),\n",
        "    (15, 'Customer_15', 'Delhi', 'Delhi', 'India', '05-07-2020', 'FALSE'),\n",
        "    (16, 'Customer_16', 'Kolkata', 'West Bengal', 'India', '10-12-2023', 'TRUE'),\n",
        "    (17, 'Customer_17', 'Ahmedabad', 'Gujarat', 'India', '14-01-2022', 'FALSE'),\n",
        "    (18, 'Customer_18', 'Jaipur', 'Rajasthan', 'India', '20-02-2021', 'TRUE'),\n",
        "    (19, 'Customer_19', 'Lucknow', 'Uttar Pradesh', 'India', '01-03-2023', 'TRUE')\n",
        "]\n",
        "\n",
        "columns = ['customer_id','name','city','state','country','registration_date','is_active']\n",
        "\n",
        "\n",
        "\n",
        "df = spark.createDataFrame(data, schema=columns)"
      ],
      "metadata": {
        "id": "ANuvwHfMD4bW"
      },
      "execution_count": 2,
      "outputs": []
    },
    {
      "cell_type": "code",
      "source": [
        "customers_rdd = df.rdd"
      ],
      "metadata": {
        "id": "Ks8zm1bWD7nD"
      },
      "execution_count": 3,
      "outputs": []
    },
    {
      "cell_type": "code",
      "source": [
        "customers_filtered = customers_rdd.filter(lambda row: row.state == 'Maharashtra')\n",
        "customers_mapped = customers_filtered.map(lambda row: (row.customer_id, 1))\n",
        "customers_reduced = customers_mapped.reduceByKey(lambda x, y: x + y)"
      ],
      "metadata": {
        "id": "4OcXiKmTEAKn"
      },
      "execution_count": 18,
      "outputs": []
    },
    {
      "cell_type": "code",
      "source": [
        "customers_filtered.count()"
      ],
      "metadata": {
        "colab": {
          "base_uri": "https://localhost:8080/"
        },
        "id": "uegtL5GJEErr",
        "outputId": "b3480838-0c07-4481-a589-05b39dba0729"
      },
      "execution_count": 19,
      "outputs": [
        {
          "output_type": "execute_result",
          "data": {
            "text/plain": [
              "4"
            ]
          },
          "metadata": {},
          "execution_count": 19
        }
      ]
    },
    {
      "cell_type": "code",
      "source": [
        "customers_reduced.cache()"
      ],
      "metadata": {
        "colab": {
          "base_uri": "https://localhost:8080/"
        },
        "id": "ohOkS1BwELZh",
        "outputId": "67432079-1a73-41e9-b841-7134390104a7"
      },
      "execution_count": 20,
      "outputs": [
        {
          "output_type": "execute_result",
          "data": {
            "text/plain": [
              "PythonRDD[40] at RDD at PythonRDD.scala:53"
            ]
          },
          "metadata": {},
          "execution_count": 20
        }
      ]
    },
    {
      "cell_type": "code",
      "source": [
        "customers_reduced.count()"
      ],
      "metadata": {
        "colab": {
          "base_uri": "https://localhost:8080/"
        },
        "id": "7s2_hxWjI254",
        "outputId": "3bd7dab6-eda1-4f5e-c3a8-c8bb51b3da4a"
      },
      "execution_count": 21,
      "outputs": [
        {
          "output_type": "execute_result",
          "data": {
            "text/plain": [
              "4"
            ]
          },
          "metadata": {},
          "execution_count": 21
        }
      ]
    },
    {
      "cell_type": "code",
      "source": [
        "customers_reduced.collect()"
      ],
      "metadata": {
        "colab": {
          "base_uri": "https://localhost:8080/"
        },
        "id": "FUVQgRLOJdrP",
        "outputId": "6d338512-33a4-48c6-bd94-9547f3523bd4"
      },
      "execution_count": 22,
      "outputs": [
        {
          "output_type": "execute_result",
          "data": {
            "text/plain": [
              "[(0, 1), (4, 1), (14, 1), (13, 1)]"
            ]
          },
          "metadata": {},
          "execution_count": 22
        }
      ]
    },
    {
      "cell_type": "code",
      "source": [
        "customers_reduced.unpersist()"
      ],
      "metadata": {
        "colab": {
          "base_uri": "https://localhost:8080/"
        },
        "id": "T_FytkeMJnKT",
        "outputId": "cdf78756-bf38-4454-9247-56ad276bbe04"
      },
      "execution_count": 23,
      "outputs": [
        {
          "output_type": "execute_result",
          "data": {
            "text/plain": [
              "PythonRDD[40] at RDD at PythonRDD.scala:53"
            ]
          },
          "metadata": {},
          "execution_count": 23
        }
      ]
    }
  ]
}